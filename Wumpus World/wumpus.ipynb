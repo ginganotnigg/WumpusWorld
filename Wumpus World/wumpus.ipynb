{
 "cells": [
  {
   "cell_type": "code",
   "execution_count": 1,
   "id": "400f798b",
   "metadata": {},
   "outputs": [
    {
     "data": {
      "text/plain": [
       "array([['A', '-', '-', '-', '-', '-', '-', '-', 'B', '-'],\n",
       "       ['-', '-', '-', '-', '-', '-', '-', 'B', 'P', 'B'],\n",
       "       ['-', '-', '-', '-', '-', '-', 'B', 'G', 'B', '-'],\n",
       "       ['-', '-', '-', '-', '-', 'B', 'P', 'B', '-', '-'],\n",
       "       ['B', '-', '-', '-', '-', '-', 'B', '-', '-', '-'],\n",
       "       ['P', 'B', '-', '-', '-', '-', '-', '-', '-', '-'],\n",
       "       ['B', 'P', 'BS', '-', 'B', '-', '-', '-', '-', '-'],\n",
       "       ['-', 'BS', 'W', 'BS', 'P', 'B', '-', '-', '-', '-'],\n",
       "       ['G', 'G', 'S', 'B', 'P', 'B', '-', '-', 'G', '-'],\n",
       "       ['G', 'G', '-', 'B', 'P', 'B', '-', '-', '-', '-']], dtype='<U2')"
      ]
     },
     "execution_count": 1,
     "metadata": {},
     "output_type": "execute_result"
    }
   ],
   "source": [
    "import numpy as np\n",
    "world = []\n",
    "with open('map.txt', 'r') as f:\n",
    "    lines = f.read().splitlines()\n",
    "    for line in lines:\n",
    "        world.append(line.split('.'))\n",
    "world = np.flip(world, axis=0)\n",
    "world"
   ]
  },
  {
   "cell_type": "code",
   "execution_count": 2,
   "id": "ce2d6ddc",
   "metadata": {},
   "outputs": [],
   "source": [
    "#world = np.array([['S', '_', 'B', 'P'], ['W', 'BSG', 'P', 'B'], ['S', '_', 'B', '_'], ['A', 'B', 'P', 'B']])\n",
    "#world = np.flip(world, axis=0)\n",
    "#world"
   ]
  },
  {
   "cell_type": "code",
   "execution_count": 3,
   "id": "f273d39d",
   "metadata": {},
   "outputs": [
    {
     "data": {
      "text/plain": [
       "(0, 0)"
      ]
     },
     "execution_count": 3,
     "metadata": {},
     "output_type": "execute_result"
    }
   ],
   "source": [
    "for i in range(len(world)):\n",
    "    for j in range(len(world[i])):\n",
    "        if world[i][j] == 'A':\n",
    "            start = (i, j)\n",
    "start"
   ]
  },
  {
   "cell_type": "code",
   "execution_count": 4,
   "id": "40255f21",
   "metadata": {},
   "outputs": [
    {
     "data": {
      "text/plain": [
       "[(1, 0), (0, 1)]"
      ]
     },
     "execution_count": 4,
     "metadata": {},
     "output_type": "execute_result"
    }
   ],
   "source": [
    "def adj(a, x):\n",
    "    arr = []\n",
    "    i = x[0]\n",
    "    j = x[1]\n",
    "    if i - 1 >= 0:\n",
    "        arr.append((i - 1, j))\n",
    "    if j - 1 >= 0:\n",
    "        arr.append((i, j - 1))\n",
    "    if i + 1 <= len(a) - 1:\n",
    "        arr.append((i + 1, j))\n",
    "    if j + 1 <= len(a) - 1:\n",
    "        arr.append((i, j + 1))\n",
    "    return arr\n",
    "adj(world, (0, 0))"
   ]
  },
  {
   "cell_type": "code",
   "execution_count": 7,
   "id": "f331633a",
   "metadata": {},
   "outputs": [
    {
     "name": "stdout",
     "output_type": "stream",
     "text": [
      "path: [(0, 0), (0, 1), (0, 2), (0, 3), (0, 4), (0, 5), (0, 6), (0, 7), (0, 8), (0, 7), (1, 7), (0, 7), (0, 6), (0, 5), (1, 5), (2, 5), (2, 6), (2, 5), (3, 5), (2, 5), (2, 4), (2, 3), (3, 3), (4, 3), (4, 4), (5, 4), (5, 5), (5, 6), (5, 7), (5, 8), (5, 9), (6, 9), (7, 9), (8, 9), (9, 9), (9, 8), (9, 7), (9, 6), (9, 5), (9, 6), (8, 6), (8, 7), (8, 8), (7, 8), (7, 7), (7, 6), (7, 5), (7, 6), (6, 6), (6, 7), (6, 8), (5, 8), (5, 9), (4, 9), (4, 8), (4, 7), (4, 6), (4, 7), (3, 7), (4, 7), (4, 8), (4, 9), (3, 9), (2, 9), (2, 8), (2, 9), (1, 9), (2, 9), (3, 9), (4, 9), (4, 8), (4, 7), (4, 6), (5, 6), (5, 5), (5, 4), (6, 4), (5, 4), (5, 3), (5, 2), (6, 2), (5, 2), (5, 1), (5, 2), (4, 2), (3, 2), (3, 1), (3, 0), (4, 0), (3, 0), (2, 0), (2, 1), (2, 2), (1, 2), (1, 3), (1, 4), (1, 3), (1, 2), (1, 1), (1, 0), (0, 0)]\n",
      "101\n"
     ]
    },
    {
     "data": {
      "text/plain": [
       "1"
      ]
     },
     "execution_count": 7,
     "metadata": {},
     "output_type": "execute_result"
    }
   ],
   "source": [
    "B = np.full_like(world, 0, dtype=int)\n",
    "P = np.full_like(world, 0, dtype=int)\n",
    "S = np.full_like(world, 0, dtype=int)\n",
    "W = np.full_like(world, 0, dtype=int)\n",
    "visited = []\n",
    "safe = [start]\n",
    "safe.extend(adj(world, start))\n",
    "stack = [start]\n",
    "prev = {}\n",
    "\n",
    "def update_map(x):\n",
    "    for cell in adj(world, x):\n",
    "        if B[x] == 1:\n",
    "            P[cell] = 1\n",
    "            if cell in safe and cell not in visited:\n",
    "                safe.remove(cell)\n",
    "        if S[x] == 1:\n",
    "            W[cell] = 1\n",
    "            if cell in safe and cell not in visited:\n",
    "                safe.remove(cell)\n",
    "    for i in range(len(world) - 1):\n",
    "        for j in range(len(world) - 1):\n",
    "            if B[i, j] == 1 and S[i, j] == 0 and B[i + 1, j + 1] == 0 and S[i + 1, j + 1] == 1:\n",
    "                P[i, j + 1] = 0\n",
    "                W[i, j + 1] = 0\n",
    "                P[i + 1, j] = 0\n",
    "                W[i + 1, j] = 0\n",
    "                if (i, j + 1) not in safe:\n",
    "                    safe.append((i, j + 1))\n",
    "                if (i + 1, j) not in safe:\n",
    "                    safe.append((i + 1, j))\n",
    "        for j in range(1, len(world)):\n",
    "            if B[i, j] == 1 and S[i, j] == 0 and B[i + 1, j - 1] == 0 and S[i + 1, j - 1] == 1:\n",
    "                P[i, j - 1] = 0\n",
    "                W[i, j - 1] = 0\n",
    "                P[i + 1, j] = 0\n",
    "                W[i + 1, j] = 0\n",
    "                if (i, j - 1) not in safe:\n",
    "                    safe.append((i, j - 1))\n",
    "                if (i + 1, j) not in safe:\n",
    "                    safe.append((i + 1, j))\n",
    "            \n",
    "            \n",
    "def update_ramify():\n",
    "    for i in ramify:\n",
    "        num_visit = 0\n",
    "        for j in adj(world, i):\n",
    "            if (j in visited) or (W[j] == 1) or (P[j] == 1):\n",
    "                num_visit += 1\n",
    "        if num_visit >= len(adj(world, i)):\n",
    "            ramify.remove(i)\n",
    "            \n",
    "def update_stack():\n",
    "    for i in stack:\n",
    "        if (W[i] == 1) or (P[i] == 1):\n",
    "            stack.remove(i)\n",
    "\n",
    "def goback_bfs(start, end):\n",
    "    parent = {}\n",
    "    queue = [start]\n",
    "    bfs_visited = []\n",
    "    path = []\n",
    "    while len(queue) > 0:\n",
    "        browse_cur = queue[0]\n",
    "        bfs_visited.append(browse_cur)\n",
    "        queue = queue[1:]\n",
    "        if browse_cur == end:\n",
    "            path = [end]\n",
    "            while path[-1] != start:\n",
    "                path.append(parent[path[-1]])\n",
    "            path.reverse()\n",
    "            return path[1:]\n",
    "        for adjacent in adj(world, browse_cur):\n",
    "            if (adjacent not in queue) and (adjacent in safe) and (adjacent not in bfs_visited):\n",
    "                parent[adjacent] = browse_cur\n",
    "                queue.append(adjacent)\n",
    "            \n",
    "path = []\n",
    "num_gold = 0\n",
    "ramify = []\n",
    "\n",
    "while len(stack) != 0:\n",
    "    update_stack()\n",
    "    cur = stack[-1]\n",
    "    stack = stack[:-1]\n",
    "    if world[cur] == '-':\n",
    "        for i in adj(world, cur):\n",
    "            if i not in safe:\n",
    "                safe.append(i)\n",
    "    if cur not in visited:\n",
    "        path.append(cur)\n",
    "        visited.append(cur)\n",
    "        if 'G' in world[cur]:\n",
    "            num_gold = 1\n",
    "        if 'B' in world[cur]:\n",
    "            B[cur] = 1\n",
    "            if cur not in safe:\n",
    "                safe.append(cur)\n",
    "        if 'S' in world[cur]:\n",
    "            S[cur] = 1\n",
    "            if cur not in safe:\n",
    "                safe.append(cur)\n",
    "        update_map(cur)\n",
    "        update_ramify()\n",
    "        num_direc = 0\n",
    "        for i in adj(world, cur):\n",
    "            if (i not in visited) & (P[i] != 1) & (W[i] != 1):\n",
    "                stack.append(i)\n",
    "                prev[i] = cur\n",
    "                num_direc += 1\n",
    "            \n",
    "        if num_direc > 1:\n",
    "            ramify.append(cur)\n",
    "        elif num_direc == 0:\n",
    "            update_ramify()\n",
    "            if len(ramify) > 0:\n",
    "                path.extend(goback_bfs(cur, ramify[-1]))\n",
    "            else:\n",
    "                path.extend(goback_bfs(cur, start))\n",
    "                break\n",
    "\n",
    "        #print(P)\n",
    "        #print(W)\n",
    "        #print(safe)\n",
    "        #print(prev)\n",
    "print(f'path: {path}')\n",
    "print(len(path))\n",
    "num_gold"
   ]
  },
  {
   "cell_type": "code",
   "execution_count": null,
   "id": "e2f4904e",
   "metadata": {},
   "outputs": [],
   "source": []
  },
  {
   "cell_type": "code",
   "execution_count": null,
   "id": "5ccec673",
   "metadata": {},
   "outputs": [],
   "source": []
  },
  {
   "cell_type": "code",
   "execution_count": null,
   "id": "c5e72013",
   "metadata": {},
   "outputs": [],
   "source": []
  },
  {
   "cell_type": "code",
   "execution_count": null,
   "id": "82fa3500",
   "metadata": {},
   "outputs": [],
   "source": []
  },
  {
   "cell_type": "code",
   "execution_count": null,
   "id": "27e85ef3",
   "metadata": {},
   "outputs": [],
   "source": []
  },
  {
   "cell_type": "code",
   "execution_count": null,
   "id": "a1b28af4",
   "metadata": {},
   "outputs": [],
   "source": []
  }
 ],
 "metadata": {
  "kernelspec": {
   "display_name": "Python 3 (ipykernel)",
   "language": "python",
   "name": "python3"
  },
  "language_info": {
   "codemirror_mode": {
    "name": "ipython",
    "version": 3
   },
   "file_extension": ".py",
   "mimetype": "text/x-python",
   "name": "python",
   "nbconvert_exporter": "python",
   "pygments_lexer": "ipython3",
   "version": "3.11.5"
  }
 },
 "nbformat": 4,
 "nbformat_minor": 5
}
